{
 "cells": [
  {
   "cell_type": "code",
   "execution_count": null,
   "id": "58633d40-2e7f-4c86-bfa8-6453d44f267e",
   "metadata": {},
   "outputs": [
    {
     "name": "stdout",
     "output_type": "stream",
     "text": [
      "data length is 62012\n",
      "......................................................\n",
      "len(patternAr):  39\n",
      "len(performanceAr):  39\n",
      "Pattern storing took: 0.0010368824005126953\n",
      "Entire processing took: 5.22317099571228 seconds\n",
      "......................................................\n"
     ]
    },
    {
     "name": "stdin",
     "output_type": "stream",
     "text": [
      "press ENTER to continue... \n"
     ]
    },
    {
     "name": "stdout",
     "output_type": "stream",
     "text": [
      "......................................................\n",
      "len(patternAr):  40\n",
      "len(performanceAr):  40\n",
      "Pattern storing took: 0.0041658878326416016\n",
      "Entire processing took: 8.225249290466309 seconds\n",
      "......................................................\n"
     ]
    },
    {
     "name": "stdin",
     "output_type": "stream",
     "text": [
      "press ENTER to continue... \n"
     ]
    },
    {
     "name": "stdout",
     "output_type": "stream",
     "text": [
      "......................................................\n",
      "len(patternAr):  41\n",
      "len(performanceAr):  41\n",
      "Pattern storing took: 0.003149271011352539\n",
      "Entire processing took: 8.647013425827026 seconds\n",
      "......................................................\n"
     ]
    },
    {
     "name": "stdin",
     "output_type": "stream",
     "text": [
      "press ENTER to continue... \n"
     ]
    },
    {
     "name": "stdout",
     "output_type": "stream",
     "text": [
      "......................................................\n",
      "len(patternAr):  42\n",
      "len(performanceAr):  42\n",
      "Pattern storing took: 0.007991313934326172\n",
      "Entire processing took: 8.857905626296997 seconds\n",
      "......................................................\n"
     ]
    },
    {
     "name": "stdin",
     "output_type": "stream",
     "text": [
      "press ENTER to continue... \n"
     ]
    },
    {
     "name": "stdout",
     "output_type": "stream",
     "text": [
      "......................................................\n",
      "len(patternAr):  43\n",
      "len(performanceAr):  43\n",
      "Pattern storing took: 0.003461599349975586\n",
      "Entire processing took: 9.071982622146606 seconds\n",
      "......................................................\n"
     ]
    },
    {
     "name": "stdin",
     "output_type": "stream",
     "text": [
      "press ENTER to continue... \n"
     ]
    },
    {
     "name": "stdout",
     "output_type": "stream",
     "text": [
      "......................................................\n",
      "len(patternAr):  44\n",
      "len(performanceAr):  44\n",
      "Pattern storing took: 0.0026390552520751953\n",
      "Entire processing took: 9.291215658187866 seconds\n",
      "......................................................\n"
     ]
    },
    {
     "name": "stdin",
     "output_type": "stream",
     "text": [
      "press ENTER to continue... \n"
     ]
    },
    {
     "name": "stdout",
     "output_type": "stream",
     "text": [
      "......................................................\n",
      "len(patternAr):  45\n",
      "len(performanceAr):  45\n",
      "Pattern storing took: 0.0014834403991699219\n",
      "Entire processing took: 9.483614683151245 seconds\n",
      "......................................................\n"
     ]
    },
    {
     "name": "stdin",
     "output_type": "stream",
     "text": [
      "press ENTER to continue... \n"
     ]
    },
    {
     "name": "stdout",
     "output_type": "stream",
     "text": [
      "......................................................\n",
      "len(patternAr):  46\n",
      "len(performanceAr):  46\n",
      "Pattern storing took: 0.0021135807037353516\n",
      "Entire processing took: 9.686736106872559 seconds\n",
      "......................................................\n"
     ]
    },
    {
     "name": "stdin",
     "output_type": "stream",
     "text": [
      "press ENTER to continue... \n"
     ]
    },
    {
     "name": "stdout",
     "output_type": "stream",
     "text": [
      "......................................................\n",
      "len(patternAr):  47\n",
      "len(performanceAr):  47\n",
      "Pattern storing took: 0.006562948226928711\n",
      "Entire processing took: 9.880437135696411 seconds\n",
      "......................................................\n"
     ]
    },
    {
     "name": "stdin",
     "output_type": "stream",
     "text": [
      "press ENTER to continue... \n"
     ]
    },
    {
     "name": "stdout",
     "output_type": "stream",
     "text": [
      "......................................................\n",
      "len(patternAr):  48\n",
      "len(performanceAr):  48\n",
      "Pattern storing took: 0.0065500736236572266\n",
      "Entire processing took: 10.068960666656494 seconds\n",
      "......................................................\n"
     ]
    },
    {
     "name": "stdin",
     "output_type": "stream",
     "text": [
      "press ENTER to continue... \n"
     ]
    },
    {
     "name": "stdout",
     "output_type": "stream",
     "text": [
      "......................................................\n",
      "len(patternAr):  49\n",
      "len(performanceAr):  49\n",
      "Pattern storing took: 0.001495361328125\n",
      "Entire processing took: 10.2423996925354 seconds\n",
      "......................................................\n"
     ]
    },
    {
     "name": "stdin",
     "output_type": "stream",
     "text": [
      "press ENTER to continue... \n"
     ]
    },
    {
     "name": "stdout",
     "output_type": "stream",
     "text": [
      "......................................................\n",
      "len(patternAr):  50\n",
      "len(performanceAr):  50\n",
      "Pattern storing took: 0.0015795230865478516\n",
      "Entire processing took: 10.44254732131958 seconds\n",
      "......................................................\n"
     ]
    },
    {
     "name": "stdin",
     "output_type": "stream",
     "text": [
      "press ENTER to continue... \n"
     ]
    },
    {
     "name": "stdout",
     "output_type": "stream",
     "text": [
      "......................................................\n",
      "len(patternAr):  51\n",
      "len(performanceAr):  51\n",
      "Pattern storing took: 0.005942344665527344\n",
      "Entire processing took: 10.65506386756897 seconds\n",
      "......................................................\n"
     ]
    },
    {
     "name": "stdin",
     "output_type": "stream",
     "text": [
      "press ENTER to continue... \n"
     ]
    },
    {
     "name": "stdout",
     "output_type": "stream",
     "text": [
      "......................................................\n",
      "len(patternAr):  52\n",
      "len(performanceAr):  52\n",
      "Pattern storing took: 0.004641532897949219\n",
      "Entire processing took: 10.859262704849243 seconds\n",
      "......................................................\n"
     ]
    },
    {
     "name": "stdin",
     "output_type": "stream",
     "text": [
      "press ENTER to continue... \n"
     ]
    },
    {
     "name": "stdout",
     "output_type": "stream",
     "text": [
      "......................................................\n",
      "len(patternAr):  53\n",
      "len(performanceAr):  53\n",
      "Pattern storing took: 0.004720926284790039\n",
      "Entire processing took: 11.06975769996643 seconds\n",
      "......................................................\n"
     ]
    },
    {
     "name": "stdin",
     "output_type": "stream",
     "text": [
      "press ENTER to continue... \n"
     ]
    },
    {
     "name": "stdout",
     "output_type": "stream",
     "text": [
      "......................................................\n",
      "len(patternAr):  54\n",
      "len(performanceAr):  54\n",
      "Pattern storing took: 0.004242897033691406\n",
      "Entire processing took: 11.254258871078491 seconds\n",
      "......................................................\n"
     ]
    },
    {
     "name": "stdin",
     "output_type": "stream",
     "text": [
      "press ENTER to continue... \n"
     ]
    },
    {
     "name": "stdout",
     "output_type": "stream",
     "text": [
      "......................................................\n",
      "len(patternAr):  55\n",
      "len(performanceAr):  55\n",
      "Pattern storing took: 0.005326032638549805\n",
      "Entire processing took: 13.840788841247559 seconds\n",
      "......................................................\n"
     ]
    },
    {
     "name": "stdin",
     "output_type": "stream",
     "text": [
      "press ENTER to continue... \n"
     ]
    },
    {
     "name": "stdout",
     "output_type": "stream",
     "text": [
      "......................................................\n",
      "len(patternAr):  56\n",
      "len(performanceAr):  56\n",
      "Pattern storing took: 0.006103515625\n",
      "Entire processing took: 14.246188163757324 seconds\n",
      "......................................................\n"
     ]
    },
    {
     "name": "stdin",
     "output_type": "stream",
     "text": [
      "press ENTER to continue... \n"
     ]
    },
    {
     "name": "stdout",
     "output_type": "stream",
     "text": [
      "......................................................\n",
      "len(patternAr):  57\n",
      "len(performanceAr):  57\n",
      "Pattern storing took: 0.005791664123535156\n",
      "Entire processing took: 14.469279766082764 seconds\n",
      "......................................................\n"
     ]
    },
    {
     "name": "stdin",
     "output_type": "stream",
     "text": [
      "press ENTER to continue... \n"
     ]
    },
    {
     "name": "stdout",
     "output_type": "stream",
     "text": [
      "......................................................\n",
      "len(patternAr):  58\n",
      "len(performanceAr):  58\n",
      "Pattern storing took: 0.006625652313232422\n",
      "Entire processing took: 14.69457721710205 seconds\n",
      "......................................................\n"
     ]
    },
    {
     "name": "stdin",
     "output_type": "stream",
     "text": [
      "press ENTER to continue... \n"
     ]
    },
    {
     "name": "stdout",
     "output_type": "stream",
     "text": [
      "......................................................\n",
      "len(patternAr):  59\n",
      "len(performanceAr):  59\n",
      "Pattern storing took: 0.0047092437744140625\n",
      "Entire processing took: 14.903449296951294 seconds\n",
      "......................................................\n"
     ]
    },
    {
     "name": "stdin",
     "output_type": "stream",
     "text": [
      "press ENTER to continue... \n"
     ]
    },
    {
     "name": "stdout",
     "output_type": "stream",
     "text": [
      "......................................................\n",
      "len(patternAr):  60\n",
      "len(performanceAr):  60\n",
      "Pattern storing took: 0.005345344543457031\n",
      "Entire processing took: 15.100305318832397 seconds\n",
      "......................................................\n"
     ]
    },
    {
     "name": "stdin",
     "output_type": "stream",
     "text": [
      "press ENTER to continue... \n"
     ]
    },
    {
     "name": "stdout",
     "output_type": "stream",
     "text": [
      "......................................................\n",
      "len(patternAr):  61\n",
      "len(performanceAr):  61\n",
      "Pattern storing took: 0.006209373474121094\n",
      "Entire processing took: 15.309512853622437 seconds\n",
      "......................................................\n"
     ]
    },
    {
     "name": "stdin",
     "output_type": "stream",
     "text": [
      "press ENTER to continue... \n"
     ]
    },
    {
     "name": "stdout",
     "output_type": "stream",
     "text": [
      "......................................................\n",
      "len(patternAr):  62\n",
      "len(performanceAr):  62\n",
      "Pattern storing took: 0.005802631378173828\n",
      "Entire processing took: 15.50349736213684 seconds\n",
      "......................................................\n"
     ]
    },
    {
     "name": "stdin",
     "output_type": "stream",
     "text": [
      "press ENTER to continue... \n"
     ]
    },
    {
     "name": "stdout",
     "output_type": "stream",
     "text": [
      "......................................................\n",
      "len(patternAr):  63\n",
      "len(performanceAr):  63\n",
      "Pattern storing took: 0.007881879806518555\n",
      "Entire processing took: 15.69675612449646 seconds\n",
      "......................................................\n"
     ]
    },
    {
     "name": "stdin",
     "output_type": "stream",
     "text": [
      "press ENTER to continue... \n"
     ]
    },
    {
     "name": "stdout",
     "output_type": "stream",
     "text": [
      "......................................................\n",
      "len(patternAr):  64\n",
      "len(performanceAr):  64\n",
      "Pattern storing took: 0.0014317035675048828\n",
      "Entire processing took: 15.866667747497559 seconds\n",
      "......................................................\n"
     ]
    },
    {
     "name": "stdin",
     "output_type": "stream",
     "text": [
      "press ENTER to continue... \n"
     ]
    },
    {
     "name": "stdout",
     "output_type": "stream",
     "text": [
      "......................................................\n",
      "len(patternAr):  65\n",
      "len(performanceAr):  65\n",
      "Pattern storing took: 0.004158735275268555\n",
      "Entire processing took: 16.063130617141724 seconds\n",
      "......................................................\n"
     ]
    },
    {
     "name": "stdin",
     "output_type": "stream",
     "text": [
      "press ENTER to continue... \n"
     ]
    },
    {
     "name": "stdout",
     "output_type": "stream",
     "text": [
      "......................................................\n",
      "len(patternAr):  66\n",
      "len(performanceAr):  66\n",
      "Pattern storing took: 0.004025459289550781\n",
      "Entire processing took: 16.2470600605011 seconds\n",
      "......................................................\n"
     ]
    },
    {
     "name": "stdin",
     "output_type": "stream",
     "text": [
      "press ENTER to continue... \n"
     ]
    },
    {
     "name": "stdout",
     "output_type": "stream",
     "text": [
      "......................................................\n",
      "len(patternAr):  67\n",
      "len(performanceAr):  67\n",
      "Pattern storing took: 0.005377292633056641\n",
      "Entire processing took: 16.432673454284668 seconds\n",
      "......................................................\n"
     ]
    },
    {
     "name": "stdin",
     "output_type": "stream",
     "text": [
      "press ENTER to continue... \n"
     ]
    },
    {
     "name": "stdout",
     "output_type": "stream",
     "text": [
      "......................................................\n",
      "len(patternAr):  68\n",
      "len(performanceAr):  68\n",
      "Pattern storing took: 0.004693746566772461\n",
      "Entire processing took: 16.62064528465271 seconds\n",
      "......................................................\n"
     ]
    },
    {
     "name": "stdin",
     "output_type": "stream",
     "text": [
      "press ENTER to continue... \n"
     ]
    },
    {
     "name": "stdout",
     "output_type": "stream",
     "text": [
      "......................................................\n",
      "len(patternAr):  69\n",
      "len(performanceAr):  69\n",
      "Pattern storing took: 0.005942583084106445\n",
      "Entire processing took: 16.793553829193115 seconds\n",
      "......................................................\n"
     ]
    },
    {
     "name": "stdin",
     "output_type": "stream",
     "text": [
      "press ENTER to continue... \n"
     ]
    },
    {
     "name": "stdout",
     "output_type": "stream",
     "text": [
      "......................................................\n",
      "len(patternAr):  70\n",
      "len(performanceAr):  70\n",
      "Pattern storing took: 0.0\n",
      "Entire processing took: 16.945652723312378 seconds\n",
      "......................................................\n"
     ]
    },
    {
     "name": "stdin",
     "output_type": "stream",
     "text": [
      "press ENTER to continue... \n"
     ]
    },
    {
     "name": "stdout",
     "output_type": "stream",
     "text": [
      "......................................................\n",
      "len(patternAr):  71\n",
      "len(performanceAr):  71\n",
      "Pattern storing took: 0.00802302360534668\n",
      "Entire processing took: 19.766760110855103 seconds\n",
      "......................................................\n"
     ]
    },
    {
     "name": "stdin",
     "output_type": "stream",
     "text": [
      "press ENTER to continue... \n"
     ]
    },
    {
     "name": "stdout",
     "output_type": "stream",
     "text": [
      "......................................................\n",
      "len(patternAr):  72\n",
      "len(performanceAr):  72\n",
      "Pattern storing took: 0.007046222686767578\n",
      "Entire processing took: 19.965646028518677 seconds\n",
      "......................................................\n"
     ]
    },
    {
     "name": "stdin",
     "output_type": "stream",
     "text": [
      "press ENTER to continue... \n"
     ]
    },
    {
     "name": "stdout",
     "output_type": "stream",
     "text": [
      "......................................................\n",
      "len(patternAr):  73\n",
      "len(performanceAr):  73\n",
      "Pattern storing took: 0.004442691802978516\n",
      "Entire processing took: 20.149750232696533 seconds\n",
      "......................................................\n"
     ]
    },
    {
     "name": "stdin",
     "output_type": "stream",
     "text": [
      "press ENTER to continue... \n"
     ]
    },
    {
     "name": "stdout",
     "output_type": "stream",
     "text": [
      "......................................................\n",
      "len(patternAr):  74\n",
      "len(performanceAr):  74\n",
      "Pattern storing took: 0.0072705745697021484\n",
      "Entire processing took: 20.340343952178955 seconds\n",
      "......................................................\n"
     ]
    },
    {
     "name": "stdin",
     "output_type": "stream",
     "text": [
      "press ENTER to continue... \n"
     ]
    },
    {
     "name": "stdout",
     "output_type": "stream",
     "text": [
      "......................................................\n",
      "len(patternAr):  75\n",
      "len(performanceAr):  75\n",
      "Pattern storing took: 0.004728794097900391\n",
      "Entire processing took: 20.51866841316223 seconds\n",
      "......................................................\n"
     ]
    },
    {
     "name": "stdin",
     "output_type": "stream",
     "text": [
      "press ENTER to continue... \n"
     ]
    },
    {
     "name": "stdout",
     "output_type": "stream",
     "text": [
      "......................................................\n",
      "len(patternAr):  76\n",
      "len(performanceAr):  76\n",
      "Pattern storing took: 0.004095554351806641\n",
      "Entire processing took: 20.71036148071289 seconds\n",
      "......................................................\n"
     ]
    },
    {
     "name": "stdin",
     "output_type": "stream",
     "text": [
      "press ENTER to continue... \n"
     ]
    },
    {
     "name": "stdout",
     "output_type": "stream",
     "text": [
      "......................................................\n",
      "len(patternAr):  77\n",
      "len(performanceAr):  77\n",
      "Pattern storing took: 0.0037338733673095703\n",
      "Entire processing took: 20.88297152519226 seconds\n",
      "......................................................\n"
     ]
    },
    {
     "name": "stdin",
     "output_type": "stream",
     "text": [
      "press ENTER to continue... \n"
     ]
    },
    {
     "name": "stdout",
     "output_type": "stream",
     "text": [
      "......................................................\n",
      "len(patternAr):  78\n",
      "len(performanceAr):  78\n",
      "Pattern storing took: 0.005549907684326172\n",
      "Entire processing took: 21.075507402420044 seconds\n",
      "......................................................\n"
     ]
    },
    {
     "name": "stdin",
     "output_type": "stream",
     "text": [
      "press ENTER to continue... \n"
     ]
    },
    {
     "name": "stdout",
     "output_type": "stream",
     "text": [
      "......................................................\n",
      "len(patternAr):  79\n",
      "len(performanceAr):  79\n",
      "Pattern storing took: 0.005791902542114258\n",
      "Entire processing took: 21.2639262676239 seconds\n",
      "......................................................\n"
     ]
    },
    {
     "name": "stdin",
     "output_type": "stream",
     "text": [
      "press ENTER to continue... \n"
     ]
    },
    {
     "name": "stdout",
     "output_type": "stream",
     "text": [
      "......................................................\n",
      "len(patternAr):  80\n",
      "len(performanceAr):  80\n",
      "Pattern storing took: 0.011520624160766602\n",
      "Entire processing took: 21.459593772888184 seconds\n",
      "......................................................\n"
     ]
    },
    {
     "name": "stdin",
     "output_type": "stream",
     "text": [
      "press ENTER to continue... \n"
     ]
    },
    {
     "name": "stdout",
     "output_type": "stream",
     "text": [
      "......................................................\n",
      "len(patternAr):  81\n",
      "len(performanceAr):  81\n",
      "Pattern storing took: 0.0013108253479003906\n",
      "Entire processing took: 21.640491485595703 seconds\n",
      "......................................................\n"
     ]
    },
    {
     "name": "stdin",
     "output_type": "stream",
     "text": [
      "press ENTER to continue... \n"
     ]
    },
    {
     "name": "stdout",
     "output_type": "stream",
     "text": [
      "......................................................\n",
      "len(patternAr):  82\n",
      "len(performanceAr):  82\n",
      "Pattern storing took: 0.004132270812988281\n",
      "Entire processing took: 21.834725379943848 seconds\n",
      "......................................................\n"
     ]
    },
    {
     "name": "stdin",
     "output_type": "stream",
     "text": [
      "press ENTER to continue... \n"
     ]
    },
    {
     "name": "stdout",
     "output_type": "stream",
     "text": [
      "......................................................\n",
      "len(patternAr):  83\n",
      "len(performanceAr):  83\n",
      "Pattern storing took: 0.0063059329986572266\n",
      "Entire processing took: 22.03063464164734 seconds\n",
      "......................................................\n"
     ]
    },
    {
     "name": "stdin",
     "output_type": "stream",
     "text": [
      "press ENTER to continue... \n"
     ]
    },
    {
     "name": "stdout",
     "output_type": "stream",
     "text": [
      "......................................................\n",
      "len(patternAr):  84\n",
      "len(performanceAr):  84\n",
      "Pattern storing took: 0.0050067901611328125\n",
      "Entire processing took: 22.220505952835083 seconds\n",
      "......................................................\n"
     ]
    },
    {
     "name": "stdin",
     "output_type": "stream",
     "text": [
      "press ENTER to continue... \n"
     ]
    },
    {
     "name": "stdout",
     "output_type": "stream",
     "text": [
      "......................................................\n",
      "len(patternAr):  85\n",
      "len(performanceAr):  85\n",
      "Pattern storing took: 0.0024874210357666016\n",
      "Entire processing took: 22.39781665802002 seconds\n",
      "......................................................\n"
     ]
    },
    {
     "name": "stdin",
     "output_type": "stream",
     "text": [
      "press ENTER to continue... \n"
     ]
    },
    {
     "name": "stdout",
     "output_type": "stream",
     "text": [
      "......................................................\n",
      "len(patternAr):  86\n",
      "len(performanceAr):  86\n",
      "Pattern storing took: 0.009630203247070312\n",
      "Entire processing took: 22.59910750389099 seconds\n",
      "......................................................\n"
     ]
    },
    {
     "name": "stdin",
     "output_type": "stream",
     "text": [
      "press ENTER to continue... \n"
     ]
    },
    {
     "name": "stdout",
     "output_type": "stream",
     "text": [
      "......................................................\n",
      "len(patternAr):  87\n",
      "len(performanceAr):  87\n",
      "Pattern storing took: 0.002628326416015625\n",
      "Entire processing took: 22.77822732925415 seconds\n",
      "......................................................\n"
     ]
    },
    {
     "name": "stdin",
     "output_type": "stream",
     "text": [
      "press ENTER to continue... \n"
     ]
    },
    {
     "name": "stdout",
     "output_type": "stream",
     "text": [
      "......................................................\n",
      "len(patternAr):  88\n",
      "len(performanceAr):  88\n",
      "Pattern storing took: 0.00847172737121582\n",
      "Entire processing took: 22.97635293006897 seconds\n",
      "......................................................\n"
     ]
    },
    {
     "name": "stdin",
     "output_type": "stream",
     "text": [
      "press ENTER to continue... \n"
     ]
    },
    {
     "name": "stdout",
     "output_type": "stream",
     "text": [
      "......................................................\n",
      "len(patternAr):  89\n",
      "len(performanceAr):  89\n",
      "Pattern storing took: 0.008581399917602539\n",
      "Entire processing took: 23.153860092163086 seconds\n",
      "......................................................\n"
     ]
    },
    {
     "name": "stdin",
     "output_type": "stream",
     "text": [
      "press ENTER to continue... \n"
     ]
    },
    {
     "name": "stdout",
     "output_type": "stream",
     "text": [
      "......................................................\n",
      "len(patternAr):  90\n",
      "len(performanceAr):  90\n",
      "Pattern storing took: 0.006083488464355469\n",
      "Entire processing took: 23.30960464477539 seconds\n",
      "......................................................\n"
     ]
    },
    {
     "name": "stdin",
     "output_type": "stream",
     "text": [
      "press ENTER to continue... \n"
     ]
    },
    {
     "name": "stdout",
     "output_type": "stream",
     "text": [
      "......................................................\n",
      "len(patternAr):  91\n",
      "len(performanceAr):  91\n",
      "Pattern storing took: 0.00861048698425293\n",
      "Entire processing took: 23.491121768951416 seconds\n",
      "......................................................\n"
     ]
    },
    {
     "name": "stdin",
     "output_type": "stream",
     "text": [
      "press ENTER to continue... \n"
     ]
    },
    {
     "name": "stdout",
     "output_type": "stream",
     "text": [
      "......................................................\n",
      "len(patternAr):  92\n",
      "len(performanceAr):  92\n",
      "Pattern storing took: 0.0033833980560302734\n",
      "Entire processing took: 23.681483030319214 seconds\n",
      "......................................................\n"
     ]
    },
    {
     "name": "stdin",
     "output_type": "stream",
     "text": [
      "press ENTER to continue... \n"
     ]
    },
    {
     "name": "stdout",
     "output_type": "stream",
     "text": [
      "......................................................\n",
      "len(patternAr):  93\n",
      "len(performanceAr):  93\n",
      "Pattern storing took: 0.009031057357788086\n",
      "Entire processing took: 23.887266159057617 seconds\n",
      "......................................................\n"
     ]
    },
    {
     "name": "stdin",
     "output_type": "stream",
     "text": [
      "press ENTER to continue... \n"
     ]
    },
    {
     "name": "stdout",
     "output_type": "stream",
     "text": [
      "......................................................\n",
      "len(patternAr):  94\n",
      "len(performanceAr):  94\n",
      "Pattern storing took: 0.006566047668457031\n",
      "Entire processing took: 24.071661710739136 seconds\n",
      "......................................................\n"
     ]
    },
    {
     "name": "stdin",
     "output_type": "stream",
     "text": [
      "press ENTER to continue... \n"
     ]
    },
    {
     "name": "stdout",
     "output_type": "stream",
     "text": [
      "......................................................\n",
      "len(patternAr):  95\n",
      "len(performanceAr):  95\n",
      "Pattern storing took: 0.004573822021484375\n",
      "Entire processing took: 24.248688220977783 seconds\n",
      "......................................................\n"
     ]
    },
    {
     "name": "stdin",
     "output_type": "stream",
     "text": [
      "press ENTER to continue... \n"
     ]
    },
    {
     "name": "stdout",
     "output_type": "stream",
     "text": [
      "......................................................\n",
      "len(patternAr):  96\n",
      "len(performanceAr):  96\n",
      "Pattern storing took: 0.0027015209197998047\n",
      "Entire processing took: 24.44947648048401 seconds\n",
      "......................................................\n"
     ]
    },
    {
     "name": "stdin",
     "output_type": "stream",
     "text": [
      "press ENTER to continue... \n"
     ]
    },
    {
     "name": "stdout",
     "output_type": "stream",
     "text": [
      "......................................................\n",
      "len(patternAr):  97\n",
      "len(performanceAr):  97\n",
      "Pattern storing took: 0.007341146469116211\n",
      "Entire processing took: 24.6620090007782 seconds\n",
      "......................................................\n"
     ]
    },
    {
     "name": "stdin",
     "output_type": "stream",
     "text": [
      "press ENTER to continue... \n"
     ]
    },
    {
     "name": "stdout",
     "output_type": "stream",
     "text": [
      "......................................................\n",
      "len(patternAr):  98\n",
      "len(performanceAr):  98\n",
      "Pattern storing took: 0.0031163692474365234\n",
      "Entire processing took: 24.856444597244263 seconds\n",
      "......................................................\n"
     ]
    },
    {
     "name": "stdin",
     "output_type": "stream",
     "text": [
      "press ENTER to continue... \n"
     ]
    },
    {
     "name": "stdout",
     "output_type": "stream",
     "text": [
      "......................................................\n",
      "len(patternAr):  99\n",
      "len(performanceAr):  99\n",
      "Pattern storing took: 0.004975318908691406\n",
      "Entire processing took: 25.069241523742676 seconds\n",
      "......................................................\n"
     ]
    },
    {
     "name": "stdin",
     "output_type": "stream",
     "text": [
      "press ENTER to continue... \n"
     ]
    },
    {
     "name": "stdout",
     "output_type": "stream",
     "text": [
      "......................................................\n",
      "len(patternAr):  100\n",
      "len(performanceAr):  100\n",
      "Pattern storing took: 0.010232925415039062\n",
      "Entire processing took: 25.289798498153687 seconds\n",
      "......................................................\n"
     ]
    },
    {
     "name": "stdin",
     "output_type": "stream",
     "text": [
      "press ENTER to continue... \n"
     ]
    },
    {
     "name": "stdout",
     "output_type": "stream",
     "text": [
      "......................................................\n",
      "len(patternAr):  101\n",
      "len(performanceAr):  101\n",
      "Pattern storing took: 0.0049512386322021484\n",
      "Entire processing took: 25.489736557006836 seconds\n",
      "......................................................\n"
     ]
    },
    {
     "name": "stdin",
     "output_type": "stream",
     "text": [
      "press ENTER to continue... \n"
     ]
    },
    {
     "name": "stdout",
     "output_type": "stream",
     "text": [
      "......................................................\n",
      "len(patternAr):  102\n",
      "len(performanceAr):  102\n",
      "Pattern storing took: 0.007966756820678711\n",
      "Entire processing took: 25.710211277008057 seconds\n",
      "......................................................\n"
     ]
    },
    {
     "name": "stdin",
     "output_type": "stream",
     "text": [
      "press ENTER to continue... \n"
     ]
    },
    {
     "name": "stdout",
     "output_type": "stream",
     "text": [
      "......................................................\n",
      "len(patternAr):  103\n",
      "len(performanceAr):  103\n",
      "Pattern storing took: 0.004911899566650391\n",
      "Entire processing took: 25.914618015289307 seconds\n",
      "......................................................\n"
     ]
    },
    {
     "name": "stdin",
     "output_type": "stream",
     "text": [
      "press ENTER to continue... \n"
     ]
    },
    {
     "name": "stdout",
     "output_type": "stream",
     "text": [
      "......................................................\n",
      "len(patternAr):  104\n",
      "len(performanceAr):  104\n",
      "Pattern storing took: 0.008336305618286133\n",
      "Entire processing took: 28.42563509941101 seconds\n",
      "......................................................\n"
     ]
    },
    {
     "name": "stdin",
     "output_type": "stream",
     "text": [
      "press ENTER to continue... \n"
     ]
    },
    {
     "name": "stdout",
     "output_type": "stream",
     "text": [
      "......................................................\n",
      "len(patternAr):  105\n",
      "len(performanceAr):  105\n",
      "Pattern storing took: 0.009716033935546875\n",
      "Entire processing took: 28.637070178985596 seconds\n",
      "......................................................\n"
     ]
    },
    {
     "name": "stdin",
     "output_type": "stream",
     "text": [
      "press ENTER to continue... \n"
     ]
    },
    {
     "name": "stdout",
     "output_type": "stream",
     "text": [
      "......................................................\n",
      "len(patternAr):  106\n",
      "len(performanceAr):  106\n",
      "Pattern storing took: 0.010872364044189453\n",
      "Entire processing took: 28.84696888923645 seconds\n",
      "......................................................\n"
     ]
    },
    {
     "name": "stdin",
     "output_type": "stream",
     "text": [
      "press ENTER to continue... \n"
     ]
    },
    {
     "name": "stdout",
     "output_type": "stream",
     "text": [
      "......................................................\n",
      "len(patternAr):  107\n",
      "len(performanceAr):  107\n",
      "Pattern storing took: 0.008509635925292969\n",
      "Entire processing took: 29.060527086257935 seconds\n",
      "......................................................\n"
     ]
    },
    {
     "name": "stdin",
     "output_type": "stream",
     "text": [
      "press ENTER to continue... \n"
     ]
    },
    {
     "name": "stdout",
     "output_type": "stream",
     "text": [
      "......................................................\n",
      "len(patternAr):  108\n",
      "len(performanceAr):  108\n",
      "Pattern storing took: 0.010061025619506836\n",
      "Entire processing took: 29.2885160446167 seconds\n",
      "......................................................\n"
     ]
    },
    {
     "name": "stdin",
     "output_type": "stream",
     "text": [
      "press ENTER to continue... \n"
     ]
    },
    {
     "name": "stdout",
     "output_type": "stream",
     "text": [
      "......................................................\n",
      "len(patternAr):  109\n",
      "len(performanceAr):  109\n",
      "Pattern storing took: 0.008497953414916992\n",
      "Entire processing took: 29.484384775161743 seconds\n",
      "......................................................\n"
     ]
    },
    {
     "name": "stdin",
     "output_type": "stream",
     "text": [
      "press ENTER to continue... \n"
     ]
    },
    {
     "name": "stdout",
     "output_type": "stream",
     "text": [
      "......................................................\n",
      "len(patternAr):  110\n",
      "len(performanceAr):  110\n",
      "Pattern storing took: 0.008373498916625977\n",
      "Entire processing took: 29.69501256942749 seconds\n",
      "......................................................\n"
     ]
    },
    {
     "name": "stdin",
     "output_type": "stream",
     "text": [
      "press ENTER to continue... \n"
     ]
    },
    {
     "name": "stdout",
     "output_type": "stream",
     "text": [
      "......................................................\n",
      "len(patternAr):  111\n",
      "len(performanceAr):  111\n",
      "Pattern storing took: 0.007219076156616211\n",
      "Entire processing took: 29.900197982788086 seconds\n",
      "......................................................\n"
     ]
    },
    {
     "name": "stdin",
     "output_type": "stream",
     "text": [
      "press ENTER to continue... \n"
     ]
    },
    {
     "name": "stdout",
     "output_type": "stream",
     "text": [
      "......................................................\n",
      "len(patternAr):  112\n",
      "len(performanceAr):  112\n",
      "Pattern storing took: 0.007664680480957031\n",
      "Entire processing took: 30.098119735717773 seconds\n",
      "......................................................\n"
     ]
    },
    {
     "name": "stdin",
     "output_type": "stream",
     "text": [
      "press ENTER to continue... \n"
     ]
    },
    {
     "name": "stdout",
     "output_type": "stream",
     "text": [
      "......................................................\n",
      "len(patternAr):  113\n",
      "len(performanceAr):  113\n",
      "Pattern storing took: 0.008014678955078125\n",
      "Entire processing took: 30.300188064575195 seconds\n",
      "......................................................\n"
     ]
    },
    {
     "name": "stdin",
     "output_type": "stream",
     "text": [
      "press ENTER to continue... \n"
     ]
    },
    {
     "name": "stdout",
     "output_type": "stream",
     "text": [
      "......................................................\n",
      "len(patternAr):  114\n",
      "len(performanceAr):  114\n",
      "Pattern storing took: 0.0035986900329589844\n",
      "Entire processing took: 30.483531951904297 seconds\n",
      "......................................................\n"
     ]
    },
    {
     "name": "stdin",
     "output_type": "stream",
     "text": [
      "press ENTER to continue... \n"
     ]
    },
    {
     "name": "stdout",
     "output_type": "stream",
     "text": [
      "......................................................\n",
      "len(patternAr):  115\n",
      "len(performanceAr):  115\n",
      "Pattern storing took: 0.005075216293334961\n",
      "Entire processing took: 30.69172215461731 seconds\n",
      "......................................................\n"
     ]
    },
    {
     "name": "stdin",
     "output_type": "stream",
     "text": [
      "press ENTER to continue... \n"
     ]
    },
    {
     "name": "stdout",
     "output_type": "stream",
     "text": [
      "......................................................\n",
      "len(patternAr):  116\n",
      "len(performanceAr):  116\n",
      "Pattern storing took: 0.009857654571533203\n",
      "Entire processing took: 30.906397819519043 seconds\n",
      "......................................................\n"
     ]
    },
    {
     "name": "stdin",
     "output_type": "stream",
     "text": [
      "press ENTER to continue... \n"
     ]
    },
    {
     "name": "stdout",
     "output_type": "stream",
     "text": [
      "......................................................\n",
      "len(patternAr):  117\n",
      "len(performanceAr):  117\n",
      "Pattern storing took: 0.012143850326538086\n",
      "Entire processing took: 31.10619330406189 seconds\n",
      "......................................................\n"
     ]
    },
    {
     "name": "stdin",
     "output_type": "stream",
     "text": [
      "press ENTER to continue... \n"
     ]
    },
    {
     "name": "stdout",
     "output_type": "stream",
     "text": [
      "......................................................\n",
      "len(patternAr):  118\n",
      "len(performanceAr):  118\n",
      "Pattern storing took: 0.00700688362121582\n",
      "Entire processing took: 31.319854259490967 seconds\n",
      "......................................................\n"
     ]
    },
    {
     "name": "stdin",
     "output_type": "stream",
     "text": [
      "press ENTER to continue... \n"
     ]
    },
    {
     "name": "stdout",
     "output_type": "stream",
     "text": [
      "......................................................\n",
      "len(patternAr):  119\n",
      "len(performanceAr):  119\n",
      "Pattern storing took: 0.007000446319580078\n",
      "Entire processing took: 31.528512716293335 seconds\n",
      "......................................................\n"
     ]
    },
    {
     "name": "stdin",
     "output_type": "stream",
     "text": [
      "press ENTER to continue... \n"
     ]
    },
    {
     "name": "stdout",
     "output_type": "stream",
     "text": [
      "......................................................\n",
      "len(patternAr):  120\n",
      "len(performanceAr):  120\n",
      "Pattern storing took: 0.008144378662109375\n",
      "Entire processing took: 31.734711408615112 seconds\n",
      "......................................................\n"
     ]
    },
    {
     "name": "stdin",
     "output_type": "stream",
     "text": [
      "press ENTER to continue... \n"
     ]
    },
    {
     "name": "stdout",
     "output_type": "stream",
     "text": [
      "......................................................\n",
      "len(patternAr):  121\n",
      "len(performanceAr):  121\n",
      "Pattern storing took: 0.0107574462890625\n",
      "Entire processing took: 31.936766386032104 seconds\n",
      "......................................................\n"
     ]
    },
    {
     "name": "stdin",
     "output_type": "stream",
     "text": [
      "press ENTER to continue... \n"
     ]
    },
    {
     "name": "stdout",
     "output_type": "stream",
     "text": [
      "......................................................\n",
      "len(patternAr):  122\n",
      "len(performanceAr):  122\n",
      "Pattern storing took: 0.009601593017578125\n",
      "Entire processing took: 32.126588582992554 seconds\n",
      "......................................................\n"
     ]
    },
    {
     "name": "stdin",
     "output_type": "stream",
     "text": [
      "press ENTER to continue... \n"
     ]
    },
    {
     "name": "stdout",
     "output_type": "stream",
     "text": [
      "......................................................\n",
      "len(patternAr):  123\n",
      "len(performanceAr):  123\n",
      "Pattern storing took: 0.016071557998657227\n",
      "Entire processing took: 32.30799579620361 seconds\n",
      "......................................................\n"
     ]
    },
    {
     "name": "stdin",
     "output_type": "stream",
     "text": [
      "press ENTER to continue... \n"
     ]
    },
    {
     "name": "stdout",
     "output_type": "stream",
     "text": [
      "......................................................\n",
      "len(patternAr):  124\n",
      "len(performanceAr):  124\n",
      "Pattern storing took: 0.010275602340698242\n",
      "Entire processing took: 32.51542782783508 seconds\n",
      "......................................................\n"
     ]
    },
    {
     "name": "stdin",
     "output_type": "stream",
     "text": [
      "press ENTER to continue... \n"
     ]
    },
    {
     "name": "stdout",
     "output_type": "stream",
     "text": [
      "......................................................\n",
      "len(patternAr):  125\n",
      "len(performanceAr):  125\n",
      "Pattern storing took: 0.004235982894897461\n",
      "Entire processing took: 32.68664860725403 seconds\n",
      "......................................................\n"
     ]
    },
    {
     "name": "stdin",
     "output_type": "stream",
     "text": [
      "press ENTER to continue... \n"
     ]
    },
    {
     "name": "stdout",
     "output_type": "stream",
     "text": [
      "......................................................\n",
      "len(patternAr):  126\n",
      "len(performanceAr):  126\n",
      "Pattern storing took: 0.007444858551025391\n",
      "Entire processing took: 32.89627480506897 seconds\n",
      "......................................................\n"
     ]
    },
    {
     "name": "stdin",
     "output_type": "stream",
     "text": [
      "press ENTER to continue... \n"
     ]
    },
    {
     "name": "stdout",
     "output_type": "stream",
     "text": [
      "......................................................\n",
      "len(patternAr):  127\n",
      "len(performanceAr):  127\n",
      "Pattern storing took: 0.012169599533081055\n",
      "Entire processing took: 33.09843063354492 seconds\n",
      "......................................................\n"
     ]
    },
    {
     "name": "stdin",
     "output_type": "stream",
     "text": [
      "press ENTER to continue... \n"
     ]
    },
    {
     "name": "stdout",
     "output_type": "stream",
     "text": [
      "......................................................\n",
      "len(patternAr):  128\n",
      "len(performanceAr):  128\n",
      "Pattern storing took: 0.006645917892456055\n",
      "Entire processing took: 33.28378486633301 seconds\n",
      "......................................................\n"
     ]
    },
    {
     "name": "stdin",
     "output_type": "stream",
     "text": [
      "press ENTER to continue... \n"
     ]
    },
    {
     "name": "stdout",
     "output_type": "stream",
     "text": [
      "......................................................\n",
      "len(patternAr):  129\n",
      "len(performanceAr):  129\n",
      "Pattern storing took: 0.007608890533447266\n",
      "Entire processing took: 33.499635219573975 seconds\n",
      "......................................................\n"
     ]
    },
    {
     "name": "stdin",
     "output_type": "stream",
     "text": [
      "press ENTER to continue... \n"
     ]
    },
    {
     "name": "stdout",
     "output_type": "stream",
     "text": [
      "......................................................\n",
      "len(patternAr):  130\n",
      "len(performanceAr):  130\n",
      "Pattern storing took: 0.005844593048095703\n",
      "Entire processing took: 33.698115825653076 seconds\n",
      "......................................................\n"
     ]
    },
    {
     "name": "stdin",
     "output_type": "stream",
     "text": [
      "press ENTER to continue... \n"
     ]
    },
    {
     "name": "stdout",
     "output_type": "stream",
     "text": [
      "......................................................\n",
      "len(patternAr):  131\n",
      "len(performanceAr):  131\n",
      "Pattern storing took: 0.003195524215698242\n",
      "Entire processing took: 33.89820861816406 seconds\n",
      "......................................................\n"
     ]
    },
    {
     "name": "stdin",
     "output_type": "stream",
     "text": [
      "press ENTER to continue... \n"
     ]
    },
    {
     "name": "stdout",
     "output_type": "stream",
     "text": [
      "......................................................\n",
      "len(patternAr):  132\n",
      "len(performanceAr):  132\n",
      "Pattern storing took: 0.011478185653686523\n",
      "Entire processing took: 34.109824657440186 seconds\n",
      "......................................................\n"
     ]
    },
    {
     "name": "stdin",
     "output_type": "stream",
     "text": [
      "press ENTER to continue... \n"
     ]
    },
    {
     "name": "stdout",
     "output_type": "stream",
     "text": [
      "......................................................\n",
      "len(patternAr):  133\n",
      "len(performanceAr):  133\n",
      "Pattern storing took: 0.006452322006225586\n",
      "Entire processing took: 34.296122789382935 seconds\n",
      "......................................................\n"
     ]
    },
    {
     "name": "stdin",
     "output_type": "stream",
     "text": [
      "press ENTER to continue... \n"
     ]
    },
    {
     "name": "stdout",
     "output_type": "stream",
     "text": [
      "......................................................\n",
      "len(patternAr):  134\n",
      "len(performanceAr):  134\n",
      "Pattern storing took: 0.008830070495605469\n",
      "Entire processing took: 34.50865149497986 seconds\n",
      "......................................................\n"
     ]
    },
    {
     "name": "stdin",
     "output_type": "stream",
     "text": [
      "press ENTER to continue... \n"
     ]
    },
    {
     "name": "stdout",
     "output_type": "stream",
     "text": [
      "......................................................\n",
      "len(patternAr):  135\n",
      "len(performanceAr):  135\n",
      "Pattern storing took: 0.0044558048248291016\n",
      "##################################\n",
      "howSim:  71.28554012688923\n",
      "patternRecognition:  118\n"
     ]
    },
    {
     "data": {
      "image/png": "[encoded data removed]",
      "text/plain": [
       "<Figure size 640x480 with 1 Axes>"
      ]
     },
     "metadata": {},
     "output_type": "display_data"
    },
    {
     "name": "stdout",
     "output_type": "stream",
     "text": [
      "patForRec:  [1e-09, 0.0006434095559229397, 0.005790686003277884, 0.005790686003277884, 0.0038604573355090644, 0.002895343001638942, 0.004503866891432004, 0.004825571669407761, 0.004825571669407761, 0.005790686003277884, 0.005468981225302127, 0.005147276447354944, 0.005147276447354944, 0.005468981225302127, 0.005468981225302127, 0.005468981225302127, 0.005147276447354944, 0.005468981225316414, 0.005468981225316414, 0.005147276447354944, 0.005790686003277884, 0.005468981225316414, 0.005147276447354944, 0.005468981225316414, 0.005147276447354944, 0.004182162113484821, 0.004182162113484821, 0.005468981225316414, 0.005790686003277884, 0.005790686003277884]\n",
      "===================================\n",
      "eachPattern:  [0.0019303777105703938, 0.002573836947417667, 0.0048259442764331285, 0.007399781223865083, 0.008043240460726644, 0.008364970079143136, 0.008364970079143136, 0.008043240460726644, 0.008043240460726644, 0.007078051605420015, 0.0057911331317254695, 0.005469403513280401, 0.005147673894863909, 0.006112862750141962, 0.0057911331317254695, 0.007399781223865083, 0.007078051605420015, 0.007399781223865083, 0.007721510842281575, 0.008364970079143136, 0.007721510842281575, 0.008043240460712356, 0.008686699697559629, 0.006434592368572741, 0.004504214658002348, 0.005147673894863909, 0.005147673894863909, 0.005147673894863909, 0.005147673894863909, 0.007721510842281575]\n",
      "----------\n",
      "predicted outcome: 0.004825571669379187\n",
      "##################################\n",
      "##################################\n",
      "Entire processing took: 34.83051347732544 seconds\n",
      "......................................................\n"
     ]
    },
    {
     "name": "stdin",
     "output_type": "stream",
     "text": [
      "press ENTER to continue... \n"
     ]
    },
    {
     "name": "stdout",
     "output_type": "stream",
     "text": [
      "......................................................\n",
      "len(patternAr):  136\n",
      "len(performanceAr):  136\n",
      "Pattern storing took: 0.00423431396484375\n",
      "##################################\n",
      "howSim:  70.34082266290633\n",
      "patternRecognition:  118\n"
     ]
    },
    {
     "data": {
      "image/png": "[encoded data removed]",
      "text/plain": [
       "<Figure size 640x480 with 1 Axes>"
      ]
     },
     "metadata": {},
     "output_type": "display_data"
    },
    {
     "name": "stdout",
     "output_type": "stream",
     "text": [
      "patForRec:  [0.0006434095559229397, 0.005790686003277884, 0.005790686003277884, 0.0038604573355090644, 0.002895343001638942, 0.004503866891432004, 0.004825571669407761, 0.004825571669407761, 0.005790686003277884, 0.005468981225302127, 0.005147276447354944, 0.005147276447354944, 0.005468981225302127, 0.005468981225302127, 0.005468981225302127, 0.005147276447354944, 0.005468981225316414, 0.005468981225316414, 0.005147276447354944, 0.005790686003277884, 0.005468981225316414, 0.005147276447354944, 0.005468981225316414, 0.005147276447354944, 0.004182162113484821, 0.004182162113484821, 0.005468981225316414, 0.005790686003277884, 0.005790686003277884, 0.005790686003277884]\n",
      "===================================\n",
      "eachPattern:  [0.0019303777105703938, 0.002573836947417667, 0.0048259442764331285, 0.007399781223865083, 0.008043240460726644, 0.008364970079143136, 0.008364970079143136, 0.008043240460726644, 0.008043240460726644, 0.007078051605420015, 0.0057911331317254695, 0.005469403513280401, 0.005147673894863909, 0.006112862750141962, 0.0057911331317254695, 0.007399781223865083, 0.007078051605420015, 0.007399781223865083, 0.007721510842281575, 0.008364970079143136, 0.007721510842281575, 0.008043240460712356, 0.008686699697559629, 0.006434592368572741, 0.004504214658002348, 0.005147673894863909, 0.005147673894863909, 0.005147673894863909, 0.005147673894863909, 0.007721510842281575]\n",
      "----------\n",
      "predicted outcome: 0.004825571669379187\n",
      "##################################\n",
      "##################################\n",
      "Entire processing took: 35.04964256286621 seconds\n",
      "......................................................\n"
     ]
    }
   ],
   "source": [
    "'''\n",
    "so we suspect that possibly \n",
    "\n",
    "To compare patterns:\n",
    "use a % change calculation to calculate similarity between each %change\n",
    "movement in the pattern finder. From those numbers, subtract them from 100, to\n",
    "get a \"how similar\" #. From this point, take all 10 of the how similars,\n",
    "and average them. Whichever pattern is MOST similar, is the one we will assume\n",
    "we have found. \n",
    "'''\n",
    "import matplotlib\n",
    "import matplotlib.pyplot as plt\n",
    "import matplotlib.ticker as mticker\n",
    "import matplotlib.dates as mdates\n",
    "import numpy as np\n",
    "import time\n",
    "from datetime import datetime \n",
    "from functools import reduce\n",
    "\n",
    "totalStart = time.time()\n",
    "date_converter = lambda x: mdates.date2num(datetime.strptime(x.decode('ascii'), '%Y%m%d%H%M%S'))\n",
    "date, bid, ask = np.loadtxt('GBPUSD1d.txt', unpack=True, delimiter=',', converters={0: date_converter})\n",
    "#avgLine = ((bid+ask)/2)\n",
    "\n",
    "####DEFINE######\n",
    "#CHANGE#\n",
    "#patternAr = []\n",
    "#performanceAr = []\n",
    "#patForRec = []\n",
    "\n",
    "def percentChange(startPoint, currentPoint):\n",
    "    try:\n",
    "        x = ((float(currentPoint)-startPoint)/abs(startPoint))*100.00\n",
    "        if x == 0.0:\n",
    "            return 0.000000001\n",
    "        else:\n",
    "            return x\n",
    "    except:\n",
    "        return 0.0001\n",
    "    #return ((float(currentPoint)-startPoint)/abs(startPoint))*100.00\n",
    "\n",
    "def patternStorage():\n",
    "    '''\n",
    "    The goal of patternFinder is to begin collection of %change patterns\n",
    "    in the tick data. From there, we also collect the short-term outcome\n",
    "    of this pattern. Later on, the length of the pattern, how far out we\n",
    "    look to compare to, and the length of the compared range be changed,\n",
    "    and even THAT can be machine learned to find the best of all 3 by\n",
    "    comparing success rates.\n",
    "    '''\n",
    "    \n",
    "    #####\n",
    "    startTime = time.time()\n",
    "\n",
    "    # required to do a pattern array, because the liklihood of an identical\n",
    "    # %change across millions of patterns is fairly likely and would\n",
    "    # cause problems. IF it was a problem of identical patterns,\n",
    "    # then it wouldnt matter, but the % change issue\n",
    "    # would cause a lot of harm. Cannot have a list as a dictionary Key.\n",
    "    \n",
    "    #MOVE THE ARRAYS THEMSELVES#\n",
    "    \n",
    "    x = len(avgLine)-30\n",
    "    y = 31\n",
    "    currentStance = 'none'\n",
    "    \n",
    "    while y < x:\n",
    "        pattern = []\n",
    "        p1 = percentChange(avgLine[y-30], avgLine[y-29])\n",
    "        p2 = percentChange(avgLine[y-30], avgLine[y-28])\n",
    "        p3 = percentChange(avgLine[y-30], avgLine[y-27])\n",
    "        p4 = percentChange(avgLine[y-30], avgLine[y-26])\n",
    "        p5 = percentChange(avgLine[y-30], avgLine[y-25])\n",
    "        p6 = percentChange(avgLine[y-30], avgLine[y-24])\n",
    "        p7 = percentChange(avgLine[y-30], avgLine[y-23])\n",
    "        p8 = percentChange(avgLine[y-30], avgLine[y-22])\n",
    "        p9 = percentChange(avgLine[y-30], avgLine[y-21])\n",
    "        p10= percentChange(avgLine[y-30], avgLine[y-20])\n",
    "\t\t\n",
    "        p11 = percentChange(avgLine[y-30], avgLine[y-19])\n",
    "        p12 = percentChange(avgLine[y-30], avgLine[y-18])\n",
    "        p13 = percentChange(avgLine[y-30], avgLine[y-17])\n",
    "        p14 = percentChange(avgLine[y-30], avgLine[y-16])\n",
    "        p15 = percentChange(avgLine[y-30], avgLine[y-15])\n",
    "        p16 = percentChange(avgLine[y-30], avgLine[y-14])\n",
    "        p17 = percentChange(avgLine[y-30], avgLine[y-13])\n",
    "        p18 = percentChange(avgLine[y-30], avgLine[y-12])\n",
    "        p19 = percentChange(avgLine[y-30], avgLine[y-11])\n",
    "        p20= percentChange(avgLine[y-30], avgLine[y-10])\n",
    "\t\t\n",
    "        p21 = percentChange(avgLine[y-30], avgLine[y-9])\n",
    "        p22 = percentChange(avgLine[y-30], avgLine[y-8])\n",
    "        p23 = percentChange(avgLine[y-30], avgLine[y-7])\n",
    "        p24 = percentChange(avgLine[y-30], avgLine[y-6])\n",
    "        p25 = percentChange(avgLine[y-30], avgLine[y-5])\n",
    "        p26 = percentChange(avgLine[y-30], avgLine[y-4])\n",
    "        p27 = percentChange(avgLine[y-30], avgLine[y-3])\n",
    "        p28 = percentChange(avgLine[y-30], avgLine[y-2])\n",
    "        p29 = percentChange(avgLine[y-30], avgLine[y-1])\n",
    "        p30= percentChange(avgLine[y-30], avgLine[y])\n",
    "\n",
    "        outcomeRange = avgLine[y+20:y+30]\n",
    "        currentPoint = avgLine[y]\n",
    "        #Define##########################\n",
    "        #########change to try except for safety\n",
    "        \n",
    "        try:\n",
    "            avgOutcome = reduce(lambda x, y: x + y, outcomeRange) / len(outcomeRange)\n",
    "        except Exception as e:\n",
    "            print(str(e))\n",
    "            avgOutcome = 0\n",
    "        #Define\n",
    "        futureOutcome = percentChange(currentPoint, avgOutcome)\n",
    "\n",
    "        #print some logics\n",
    "        '''\n",
    "        print 'where we are historically:',currentPoint\n",
    "        print 'soft outcome of the horizon:',avgOutcome\n",
    "        print 'This pattern brings a future change of:',futureOutcome\n",
    "        print '_______'\n",
    "        print p1, p2, p3, p4, p5, p6, p7, p8, p9, p10\n",
    "        '''\n",
    "        pattern.append(p1)\n",
    "        pattern.append(p2)\n",
    "        pattern.append(p3)\n",
    "        pattern.append(p4)\n",
    "        pattern.append(p5)\n",
    "        pattern.append(p6)\n",
    "        pattern.append(p7)\n",
    "        pattern.append(p8)\n",
    "        pattern.append(p9)\n",
    "        pattern.append(p10)\n",
    "\n",
    "        pattern.append(p11)\n",
    "        pattern.append(p12)\n",
    "        pattern.append(p13)\n",
    "        pattern.append(p14)\n",
    "        pattern.append(p15)\n",
    "        pattern.append(p16)\n",
    "        pattern.append(p17)\n",
    "        pattern.append(p18)\n",
    "        pattern.append(p19)\n",
    "        pattern.append(p20)\n",
    "\n",
    "        pattern.append(p21)\n",
    "        pattern.append(p22)\n",
    "        pattern.append(p23)\n",
    "        pattern.append(p24)\n",
    "        pattern.append(p25)\n",
    "        pattern.append(p26)\n",
    "        pattern.append(p27)\n",
    "        pattern.append(p28)\n",
    "        pattern.append(p29)\n",
    "        pattern.append(p30)\n",
    "\n",
    "        #can use .index to find the index value, then search for that value to get the matching information.\n",
    "        # so like, performanceAr.index(12341)\n",
    "        patternAr.append(pattern)\n",
    "        performanceAr.append(futureOutcome)\n",
    "        \n",
    "        y+=1\n",
    "    #####\n",
    "    endTime = time.time()\n",
    "    print(\"len(patternAr): \", len(patternAr))\n",
    "    print(\"len(performanceAr): \", len(performanceAr))\n",
    "    print('Pattern storing took:', endTime-startTime)\n",
    "    #####\n",
    "        \n",
    "def currentPattern():\n",
    "    mostRecentPoint = avgLine[-1]\n",
    "\n",
    "    cp1 = percentChange(avgLine[-31],avgLine[-30])\n",
    "    cp2 = percentChange(avgLine[-31],avgLine[-29])\n",
    "    cp3 = percentChange(avgLine[-31],avgLine[-28])\n",
    "    cp4 = percentChange(avgLine[-31],avgLine[-27])\n",
    "    cp5 = percentChange(avgLine[-31],avgLine[-26])\n",
    "    cp6 = percentChange(avgLine[-31],avgLine[-25])\n",
    "    cp7 = percentChange(avgLine[-31],avgLine[-24])\n",
    "    cp8 = percentChange(avgLine[-31],avgLine[-23])\n",
    "    cp9 = percentChange(avgLine[-31],avgLine[-22])\n",
    "    cp10= percentChange(avgLine[-31],avgLine[-21])\n",
    "\t\n",
    "\t\n",
    "    cp11 = percentChange(avgLine[-31],avgLine[-20])\n",
    "    cp12 = percentChange(avgLine[-31],avgLine[-19])\n",
    "    cp13 = percentChange(avgLine[-31],avgLine[-18])\n",
    "    cp14 = percentChange(avgLine[-31],avgLine[-17])\n",
    "    cp15 = percentChange(avgLine[-31],avgLine[-16])\n",
    "    cp16 = percentChange(avgLine[-31],avgLine[-15])\n",
    "    cp17 = percentChange(avgLine[-31],avgLine[-14])\n",
    "    cp18 = percentChange(avgLine[-31],avgLine[-13])\n",
    "    cp19 = percentChange(avgLine[-31],avgLine[-12])\n",
    "    cp20= percentChange(avgLine[-31],avgLine[-11])\n",
    "\t\n",
    "    cp21 = percentChange(avgLine[-31],avgLine[-10])\n",
    "    cp22 = percentChange(avgLine[-31],avgLine[-9])\n",
    "    cp23 = percentChange(avgLine[-31],avgLine[-8])\n",
    "    cp24 = percentChange(avgLine[-31],avgLine[-7])\n",
    "    cp25 = percentChange(avgLine[-31],avgLine[-6])\n",
    "    cp26 = percentChange(avgLine[-31],avgLine[-5])\n",
    "    cp27 = percentChange(avgLine[-31],avgLine[-4])\n",
    "    cp28 = percentChange(avgLine[-31],avgLine[-3])\n",
    "    cp29 = percentChange(avgLine[-31],avgLine[-2])\n",
    "    cp30= percentChange(avgLine[-31],avgLine[-1])\n",
    "\n",
    "    patForRec.append(cp1)\n",
    "    patForRec.append(cp2)\n",
    "    patForRec.append(cp3)\n",
    "    patForRec.append(cp4)\n",
    "    patForRec.append(cp5)\n",
    "    patForRec.append(cp6)\n",
    "    patForRec.append(cp7)\n",
    "    patForRec.append(cp8)\n",
    "    patForRec.append(cp9)\n",
    "    patForRec.append(cp10)\n",
    "    patForRec.append(cp11)\n",
    "    patForRec.append(cp12)\n",
    "    patForRec.append(cp13)\n",
    "    patForRec.append(cp14)\n",
    "    patForRec.append(cp15)\n",
    "    patForRec.append(cp16)\n",
    "    patForRec.append(cp17)\n",
    "    patForRec.append(cp18)\n",
    "    patForRec.append(cp19)\n",
    "    patForRec.append(cp20)\n",
    "    patForRec.append(cp21)\n",
    "    patForRec.append(cp22)\n",
    "    patForRec.append(cp23)\n",
    "    patForRec.append(cp24)\n",
    "    patForRec.append(cp25)\n",
    "    patForRec.append(cp26)\n",
    "    patForRec.append(cp27)\n",
    "    patForRec.append(cp28)\n",
    "    patForRec.append(cp29)\n",
    "    patForRec.append(cp30)\n",
    "    #print(patForRec)\n",
    "    \n",
    "def graphRawFX():\n",
    "    fig = plt.figure(figsize=(10,7))\n",
    "    ax1 = plt.subplot2grid((40,40), (0,0), rowspan=40, colspan=40)\n",
    "\n",
    "    ax1.plot(date,bid)\n",
    "    ax1.plot(date,ask)\n",
    "\n",
    "    plt.gca().get_yaxis().get_major_formatter().set_useOffset(False)\n",
    "\n",
    "    ax1.xaxis.set_major_formatter(mdates.DateFormatter('%Y-%m-%d %H:%M:%S'))\n",
    "    for label in ax1.xaxis.get_ticklabels():\n",
    "        label.set_rotation(45)\n",
    "\n",
    "    ax1_2 = ax1.twinx()\n",
    "    ax1_2.fill_between(date, 0, (ask-bid), facecolor='g', alpha=.3)\n",
    "\n",
    "    plt.subplots_adjust(bottom=.23)\n",
    "\n",
    "    #plt.grid(True)\n",
    "    plt.show()\n",
    "\n",
    "def patternRecognition():\n",
    "    for eachPattern in patternAr:\n",
    "        sim1 = 100.00 - abs(percentChange(eachPattern[0], patForRec[0]))\n",
    "        sim2 = 100.00 - abs(percentChange(eachPattern[1], patForRec[1]))\n",
    "        sim3 = 100.00 - abs(percentChange(eachPattern[2], patForRec[2]))\n",
    "        sim4 = 100.00 - abs(percentChange(eachPattern[3], patForRec[3]))\n",
    "        sim5 = 100.00 - abs(percentChange(eachPattern[4], patForRec[4]))\n",
    "        sim6 = 100.00 - abs(percentChange(eachPattern[5], patForRec[5]))\n",
    "        sim7 = 100.00 - abs(percentChange(eachPattern[6], patForRec[6]))\n",
    "        sim8 = 100.00 - abs(percentChange(eachPattern[7], patForRec[7]))\n",
    "        sim9 = 100.00 - abs(percentChange(eachPattern[8], patForRec[8]))\n",
    "        sim10 = 100.00 - abs(percentChange(eachPattern[9], patForRec[9]))\n",
    "            \n",
    "        sim11 = 100.00 - abs(percentChange(eachPattern[10], patForRec[10]))\n",
    "        sim12 = 100.00 - abs(percentChange(eachPattern[11], patForRec[11]))\n",
    "        sim13 = 100.00 - abs(percentChange(eachPattern[12], patForRec[12]))\n",
    "        sim14 = 100.00 - abs(percentChange(eachPattern[13], patForRec[13]))\n",
    "        sim15 = 100.00 - abs(percentChange(eachPattern[14], patForRec[14]))\n",
    "        sim16 = 100.00 - abs(percentChange(eachPattern[15], patForRec[15]))\n",
    "        sim17 = 100.00 - abs(percentChange(eachPattern[16], patForRec[16]))\n",
    "        sim18 = 100.00 - abs(percentChange(eachPattern[17], patForRec[17]))\n",
    "        sim19 = 100.00 - abs(percentChange(eachPattern[18], patForRec[18]))\n",
    "        sim20 = 100.00 - abs(percentChange(eachPattern[19], patForRec[19]))\n",
    "            \n",
    "        sim21 = 100.00 - abs(percentChange(eachPattern[20], patForRec[20]))\n",
    "        sim22 = 100.00 - abs(percentChange(eachPattern[21], patForRec[21]))\n",
    "        sim23 = 100.00 - abs(percentChange(eachPattern[22], patForRec[22]))\n",
    "        sim24 = 100.00 - abs(percentChange(eachPattern[23], patForRec[23]))\n",
    "        sim25 = 100.00 - abs(percentChange(eachPattern[24], patForRec[24]))\n",
    "        sim26 = 100.00 - abs(percentChange(eachPattern[25], patForRec[25]))\n",
    "        sim27 = 100.00 - abs(percentChange(eachPattern[26], patForRec[26]))\n",
    "        sim28 = 100.00 - abs(percentChange(eachPattern[27], patForRec[27]))\n",
    "        sim29 = 100.00 - abs(percentChange(eachPattern[28], patForRec[28]))\n",
    "        sim30 = 100.00 - abs(percentChange(eachPattern[29], patForRec[29]))\n",
    "        \n",
    "        howSim = (sim1+sim2+sim3+sim4+sim5+sim6+sim7+sim8+sim9+sim10\n",
    "                  +sim11+sim12+sim13+sim14+sim15+sim16+sim17+sim18+sim19+sim20\n",
    "                  +sim21+sim22+sim23+sim24+sim25+sim26+sim27+sim28+sim29+sim30)/30.00\n",
    "\n",
    "        if howSim > 70:\n",
    "            patdex = patternAr.index(eachPattern)\n",
    "            print('##################################')   \n",
    "            print('howSim: ', howSim)   \n",
    "            print(\"patternRecognition: \", patdex)\n",
    "            xp = [1,2,3,4,5,6,7,8,9,10,11,12,13,14,15,16,17,18,19,20,21,22,23,24,25,26,27,28,29,30]\n",
    "            fig = plt.figure()\n",
    "            plt.plot(xp, patForRec)\n",
    "            plt.plot(xp, eachPattern)\n",
    "            plt.show()\n",
    "            print(\"patForRec: \", patForRec)\n",
    "            print('===================================')\n",
    "            print(\"eachPattern: \", eachPattern)\n",
    "            print('----------')\n",
    "            print('predicted outcome:',performanceAr[patdex])\n",
    "            print('##################################')\n",
    "            print('##################################')\n",
    "\n",
    "# Forward Testing/Rolling Window\n",
    "dataLength = int(bid.shape[0])\n",
    "print('data length is', dataLength)\n",
    "toWhat = 100\n",
    "\n",
    "while toWhat < dataLength:\n",
    "    print('......................................................')\n",
    "    avgLine = ((bid+ask)/2)\n",
    "    avgLine = avgLine[:toWhat]\n",
    "\n",
    "    patternAr = []\n",
    "    performanceAr = []\n",
    "    patForRec = []\n",
    "    \n",
    "    patternStorage()\n",
    "    currentPattern()\n",
    "    patternRecognition()\n",
    "    totalEnd = time.time()-totalStart\n",
    "    print('Entire processing took:',totalEnd,'seconds')\n",
    "    print('......................................................')\n",
    "    moveOn = input('press ENTER to continue...') \n",
    "    toWhat += 1"
   ]
  },
  {
   "cell_type": "code",
   "execution_count": null,
   "id": "89181320-4092-4486-889f-499395d2d012",
   "metadata": {},
   "outputs": [],
   "source": []
  }
 ],
 "metadata": {
  "kernelspec": {
   "display_name": "Python 3 (ipykernel)",
   "language": "python",
   "name": "python3"
  },
  "language_info": {
   "codemirror_mode": {
    "name": "ipython",
    "version": 3
   },
   "file_extension": ".py",
   "mimetype": "text/x-python",
   "name": "python",
   "nbconvert_exporter": "python",
   "pygments_lexer": "ipython3",
   "version": "3.12.4"
  }
 },
 "nbformat": 4,
 "nbformat_minor": 5
}
